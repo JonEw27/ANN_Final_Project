{
 "cells": [
  {
   "cell_type": "code",
   "execution_count": null,
   "id": "3e6a3043",
   "metadata": {},
   "outputs": [
    {
     "name": "stderr",
     "output_type": "stream",
     "text": [
      "2025-05-05 10:41:22.633921: I tensorflow/core/platform/cpu_feature_guard.cc:182] This TensorFlow binary is optimized to use available CPU instructions in performance-critical operations.\n",
      "To enable the following instructions: SSE4.1 SSE4.2, in other operations, rebuild TensorFlow with the appropriate compiler flags.\n"
     ]
    },
    {
     "name": "stdout",
     "output_type": "stream",
     "text": [
      "Intel MKL WARNING: Support of Intel(R) Streaming SIMD Extensions 4.2 (Intel(R) SSE4.2) enabled only processors has been deprecated. Intel oneAPI Math Kernel Library 2025.0 will require Intel(R) Advanced Vector Extensions (Intel(R) AVX) instructions.\n",
      "Intel MKL WARNING: Support of Intel(R) Streaming SIMD Extensions 4.2 (Intel(R) SSE4.2) enabled only processors has been deprecated. Intel oneAPI Math Kernel Library 2025.0 will require Intel(R) Advanced Vector Extensions (Intel(R) AVX) instructions.\n",
      "Model: \"sequential\"\n",
      "_________________________________________________________________\n",
      " Layer (type)                Output Shape              Param #   \n",
      "=================================================================\n",
      " conv2d (Conv2D)             (None, 64, 64, 16)        448       \n",
      "                                                                 \n",
      " max_pooling2d (MaxPooling2D  (None, 32, 32, 16)       0         \n",
      " )                                                               \n",
      "                                                                 \n",
      " conv2d_1 (Conv2D)           (None, 32, 32, 32)        4640      \n",
      "                                                                 \n",
      " max_pooling2d_1 (MaxPooling  (None, 16, 16, 32)       0         \n",
      " 2D)                                                             \n",
      "                                                                 \n",
      " flatten (Flatten)           (None, 8192)              0         \n",
      "                                                                 \n",
      " dense (Dense)               (None, 64)                524352    \n",
      "                                                                 \n",
      " dropout (Dropout)           (None, 64)                0         \n",
      "                                                                 \n",
      " dense_1 (Dense)             (None, 3)                 195       \n",
      "                                                                 \n",
      "=================================================================\n",
      "Total params: 529,635\n",
      "Trainable params: 529,635\n",
      "Non-trainable params: 0\n",
      "_________________________________________________________________\n"
     ]
    }
   ],
   "source": [
    "import tensorflow as tf\n",
    "from tensorflow.keras import layers, models\n",
    "\n",
    "# Shape and num of Pant Types\n",
    "input_shape = (64, 64, 3)\n",
    "num_classes = 3\n",
    "\n",
    "# Create CNN\n",
    "model = models.Sequential([\n",
    "    # layer 1 / MaxPool\n",
    "    layers.Conv2D(16, (3, 3), activation='relu', padding='same', input_shape=input_shape),\n",
    "    layers.MaxPooling2D((2, 2)),\n",
    "\n",
    "    # layer 2 / Maxpool\n",
    "    layers.Conv2D(32, (3, 3), activation='relu', padding='same'),\n",
    "    layers.MaxPooling2D((2, 2)),\n",
    "\n",
    "    # Add dense and dropout layers\n",
    "    layers.Flatten(),\n",
    "    layers.Dense(64, activation='relu'),\n",
    "    layers.Dropout(0.5),\n",
    "    layers.Dense(num_classes, activation='softmax')\n",
    "])\n",
    "\n",
    "model.summary()"
   ]
  },
  {
   "cell_type": "code",
   "execution_count": 3,
   "id": "10be57db",
   "metadata": {},
   "outputs": [],
   "source": [
    "model.compile(\n",
    "    optimizer=tf.keras.optimizers.Adam(learning_rate=1e-3),\n",
    "    loss='categorical_crossentropy',\n",
    "    metrics=['accuracy']\n",
    ")"
   ]
  },
  {
   "cell_type": "code",
   "execution_count": null,
   "id": "4a4b3062",
   "metadata": {},
   "outputs": [
    {
     "name": "stdout",
     "output_type": "stream",
     "text": [
      "Found 1067 images belonging to 3 classes.\n",
      "Found 265 images belonging to 3 classes.\n",
      "Current working directory: /Users/jonathanewanchuk/Downloads\n",
      "Writeable here? True\n",
      "Saving models into: /Users/jonathanewanchuk/models\n"
     ]
    },
    {
     "name": "stderr",
     "output_type": "stream",
     "text": [
      "2025-05-05 10:41:33.783432: I tensorflow/core/common_runtime/executor.cc:1197] [/device:CPU:0] (DEBUG INFO) Executor start aborting (this does not indicate an error and you can ignore this message): INVALID_ARGUMENT: You must feed a value for placeholder tensor 'Placeholder/_0' with dtype int32\n",
      "\t [[{{node Placeholder/_0}}]]\n"
     ]
    },
    {
     "name": "stdout",
     "output_type": "stream",
     "text": [
      "Epoch 1/15\n",
      "67/67 [==============================] - ETA: 0s - loss: 0.8992 - accuracy: 0.5961"
     ]
    },
    {
     "name": "stderr",
     "output_type": "stream",
     "text": [
      "2025-05-05 10:41:39.137385: I tensorflow/core/common_runtime/executor.cc:1197] [/device:CPU:0] (DEBUG INFO) Executor start aborting (this does not indicate an error and you can ignore this message): INVALID_ARGUMENT: You must feed a value for placeholder tensor 'Placeholder/_0' with dtype int32\n",
      "\t [[{{node Placeholder/_0}}]]\n"
     ]
    },
    {
     "name": "stdout",
     "output_type": "stream",
     "text": [
      "67/67 [==============================] - 6s 76ms/step - loss: 0.8992 - accuracy: 0.5961 - val_loss: 0.8601 - val_accuracy: 0.6113\n",
      "Epoch 2/15\n",
      "67/67 [==============================] - 4s 58ms/step - loss: 0.7672 - accuracy: 0.6317 - val_loss: 0.9085 - val_accuracy: 0.7811\n",
      "Epoch 3/15\n",
      "67/67 [==============================] - 4s 61ms/step - loss: 0.7401 - accuracy: 0.6392 - val_loss: 0.8678 - val_accuracy: 0.6528\n",
      "Epoch 4/15\n",
      "67/67 [==============================] - 4s 60ms/step - loss: 0.7199 - accuracy: 0.6607 - val_loss: 0.8357 - val_accuracy: 0.7245\n",
      "Epoch 5/15\n",
      "67/67 [==============================] - 6s 95ms/step - loss: 0.7062 - accuracy: 0.6626 - val_loss: 0.6942 - val_accuracy: 0.7094\n",
      "Epoch 6/15\n",
      "67/67 [==============================] - 6s 87ms/step - loss: 0.6817 - accuracy: 0.6795 - val_loss: 0.8161 - val_accuracy: 0.7660\n",
      "Epoch 7/15\n",
      "67/67 [==============================] - 4s 67ms/step - loss: 0.6789 - accuracy: 0.6776 - val_loss: 0.6314 - val_accuracy: 0.7774\n",
      "Epoch 8/15\n",
      "67/67 [==============================] - 4s 61ms/step - loss: 0.6767 - accuracy: 0.6973 - val_loss: 0.7562 - val_accuracy: 0.6528\n",
      "Epoch 9/15\n",
      "67/67 [==============================] - 5s 72ms/step - loss: 0.6298 - accuracy: 0.7057 - val_loss: 0.8940 - val_accuracy: 0.7132\n",
      "Epoch 10/15\n",
      "67/67 [==============================] - 4s 59ms/step - loss: 0.6084 - accuracy: 0.7226 - val_loss: 0.5995 - val_accuracy: 0.7698\n",
      "Epoch 11/15\n",
      "67/67 [==============================] - 4s 59ms/step - loss: 0.6087 - accuracy: 0.7254 - val_loss: 0.7150 - val_accuracy: 0.7208\n",
      "Epoch 12/15\n",
      "67/67 [==============================] - 4s 59ms/step - loss: 0.6027 - accuracy: 0.7170 - val_loss: 0.8355 - val_accuracy: 0.7434\n",
      "Epoch 13/15\n",
      "67/67 [==============================] - 4s 60ms/step - loss: 0.5806 - accuracy: 0.7320 - val_loss: 0.5757 - val_accuracy: 0.7208\n",
      "Epoch 14/15\n",
      "67/67 [==============================] - 4s 60ms/step - loss: 0.5735 - accuracy: 0.7404 - val_loss: 0.8580 - val_accuracy: 0.6906\n",
      "Epoch 15/15\n",
      "67/67 [==============================] - 4s 61ms/step - loss: 0.5803 - accuracy: 0.7151 - val_loss: 0.8855 - val_accuracy: 0.6717\n"
     ]
    }
   ],
   "source": [
    "import os\n",
    "from tensorflow.keras.preprocessing.image import ImageDataGenerator\n",
    "from tensorflow.keras.callbacks import ModelCheckpoint, EarlyStopping\n",
    "\n",
    "# Directory\n",
    "base_dir = os.path.expanduser(\"~/Google Drive/My Drive/ANN Project/Project Images\")\n",
    "train_dir = os.path.join(base_dir, \"Training\")    \n",
    "test_dir  = os.path.join(base_dir, \"Testing\")\n",
    "\n",
    "# 80/20 train/val split and preprocess\n",
    "train_datagen = ImageDataGenerator(\n",
    "    rescale=1./255,           \n",
    "    rotation_range=10,        \n",
    "    width_shift_range=0.1,    \n",
    "    height_shift_range=0.1,  \n",
    "    shear_range=0.1,          \n",
    "    zoom_range=0.1,          \n",
    "    horizontal_flip=True,     \n",
    "    validation_split=0.2      \n",
    ")\n",
    "\n",
    "# Training\n",
    "train_gen = train_datagen.flow_from_directory(\n",
    "    train_dir,\n",
    "    target_size=(64,64),\n",
    "    batch_size=16,\n",
    "    class_mode=\"categorical\",\n",
    "    classes=[\"PantA\",\"PantB\",\"PantC\"],\n",
    "    subset=\"training\",\n",
    "    shuffle=True\n",
    ")\n",
    "\n",
    "# Validating\n",
    "val_gen = train_datagen.flow_from_directory(\n",
    "    train_dir,\n",
    "    target_size=(64,64),\n",
    "    batch_size=16,\n",
    "    class_mode=\"categorical\",\n",
    "    classes=[\"PantA\",\"PantB\",\"PantC\"],\n",
    "    subset=\"validation\",\n",
    "    shuffle=True\n",
    ")\n",
    "\n",
    "cwd = os.getcwd()\n",
    "print(\"Current working directory:\", cwd)\n",
    "print(\"Writeable here?\", os.access(cwd, os.W_OK))\n",
    "\n",
    "models_dir = os.path.expanduser(\"~/models\")\n",
    "os.makedirs(models_dir, exist_ok=True)\n",
    "print(\"Saving models into:\", models_dir)\n",
    "\n",
    "model_path = os.path.join(models_dir, \"best_model.h5\")\n",
    "\n",
    "checkpoint = ModelCheckpoint(filepath = model_path, monitor=\"val_loss\", save_best_only=True)\n",
    "earlystop   = EarlyStopping(monitor=\"val_loss\", patience=5, restore_best_weights=True)\n",
    "\n",
    "history = model.fit(\n",
    "    train_gen,\n",
    "    epochs=15,\n",
    "    validation_data=val_gen,\n",
    "    callbacks=[checkpoint, earlystop]\n",
    ")"
   ]
  },
  {
   "cell_type": "code",
   "execution_count": null,
   "id": "8c927123",
   "metadata": {},
   "outputs": [
    {
     "name": "stdout",
     "output_type": "stream",
     "text": [
      "Found 148 images belonging to 3 classes.\n",
      " 3/10 [========>.....................] - ETA: 0s - loss: 0.6982 - accuracy: 0.6875"
     ]
    },
    {
     "name": "stderr",
     "output_type": "stream",
     "text": [
      "2025-05-05 10:42:46.451021: I tensorflow/core/common_runtime/executor.cc:1197] [/device:CPU:0] (DEBUG INFO) Executor start aborting (this does not indicate an error and you can ignore this message): INVALID_ARGUMENT: You must feed a value for placeholder tensor 'Placeholder/_0' with dtype int32\n",
      "\t [[{{node Placeholder/_0}}]]\n"
     ]
    },
    {
     "name": "stdout",
     "output_type": "stream",
     "text": [
      "10/10 [==============================] - 0s 24ms/step - loss: 0.6183 - accuracy: 0.7770\n",
      "Test loss: 0.618\n",
      "Test accuracy: 77.70%\n"
     ]
    },
    {
     "name": "stderr",
     "output_type": "stream",
     "text": [
      "2025-05-05 10:42:46.805257: I tensorflow/core/common_runtime/executor.cc:1197] [/device:CPU:0] (DEBUG INFO) Executor start aborting (this does not indicate an error and you can ignore this message): INVALID_ARGUMENT: You must feed a value for placeholder tensor 'Placeholder/_0' with dtype int32\n",
      "\t [[{{node Placeholder/_0}}]]\n"
     ]
    },
    {
     "name": "stdout",
     "output_type": "stream",
     "text": [
      "10/10 [==============================] - 0s 20ms/step\n",
      "\n",
      "Confusion Matrix:\n",
      "[[12 11  4]\n",
      " [ 3 84  3]\n",
      " [ 1 11 19]]\n",
      "\n",
      "Classification Report:\n",
      "Class      Prec    Rec     F1  Support\n",
      "PantA      0.75   0.44   0.56       27\n",
      "PantB      0.79   0.93   0.86       90\n",
      "PantC      0.73   0.61   0.67       31\n"
     ]
    }
   ],
   "source": [
    "import numpy as np\n",
    "import tensorflow as tf\n",
    "from tensorflow.keras.preprocessing.image import ImageDataGenerator\n",
    "\n",
    "# Testing\n",
    "test_gen = ImageDataGenerator(rescale=1./255).flow_from_directory(\n",
    "    test_dir,\n",
    "    target_size=(64,64),\n",
    "    batch_size=16,\n",
    "    class_mode=\"categorical\",\n",
    "    classes=[\"PantA\",\"PantB\",\"PantC\"],\n",
    "    shuffle=False\n",
    ")\n",
    "\n",
    "# Performance\n",
    "test_loss, test_acc = model.evaluate(test_gen)\n",
    "print(f\"Test loss: {test_loss:.3f}\")\n",
    "print(f\"Test accuracy: {test_acc:.2%}\")\n",
    "\n",
    "# Predictions\n",
    "y_prob = model.predict(test_gen)\n",
    "y_pred = np.argmax(y_prob, axis=1)\n",
    "y_true = test_gen.classes\n",
    "class_names = list(test_gen.class_indices.keys())\n",
    "num_classes = len(class_names)\n",
    "\n",
    "# Confusion Matrix\n",
    "cm = tf.math.confusion_matrix(y_true, y_pred, num_classes=num_classes).numpy()\n",
    "print(\"\\nConfusion Matrix:\")\n",
    "print(cm)\n",
    "\n",
    "# Per-class precision, recall, F1\n",
    "print(\"\\nClassification Report:\")\n",
    "print(f\"{'Class':<8s}  {'Prec':>5s}  {'Rec':>5s}  {'F1':>5s}  {'Support':>7s}\")\n",
    "for i, name in enumerate(class_names):\n",
    "    tp = cm[i,i]\n",
    "    fp = cm[:,i].sum() - tp\n",
    "    fn = cm[i,:].sum() - tp\n",
    "    support = cm[i,:].sum()\n",
    "    precision = tp / (tp + fp + 1e-8)\n",
    "    recall    = tp / (tp + fn + 1e-8)\n",
    "    f1        = 2 * (precision * recall) / (precision + recall + 1e-8)\n",
    "    print(f\"{name:<8s}  {precision:5.2f}  {recall:5.2f}  {f1:5.2f}  {support:7d}\")\n"
   ]
  }
 ],
 "metadata": {
  "kernelspec": {
   "display_name": "tensorflow-env",
   "language": "python",
   "name": "python3"
  },
  "language_info": {
   "codemirror_mode": {
    "name": "ipython",
    "version": 3
   },
   "file_extension": ".py",
   "mimetype": "text/x-python",
   "name": "python",
   "nbconvert_exporter": "python",
   "pygments_lexer": "ipython3",
   "version": "3.9.18"
  }
 },
 "nbformat": 4,
 "nbformat_minor": 5
}
